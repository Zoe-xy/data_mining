{
 "cells": [
  {
   "cell_type": "markdown",
   "metadata": {},
   "source": [
    "## 1 wine_reviews\n",
    "对wine_reviews数据集进行关联规则分析"
   ]
  },
  {
   "cell_type": "code",
   "execution_count": 35,
   "metadata": {},
   "outputs": [],
   "source": [
    "import numpy as np\n",
    "import pandas as pd\n",
    "import seaborn as sns\n",
    "import matplotlib.pyplot as plt\n",
    "from efficient_apriori import apriori\n",
    "import warnings\n",
    "from sklearn.exceptions import DataConversionWarning"
   ]
  },
  {
   "cell_type": "code",
   "execution_count": 3,
   "metadata": {},
   "outputs": [
    {
     "data": {
      "text/html": [
       "<div>\n",
       "<style scoped>\n",
       "    .dataframe tbody tr th:only-of-type {\n",
       "        vertical-align: middle;\n",
       "    }\n",
       "\n",
       "    .dataframe tbody tr th {\n",
       "        vertical-align: top;\n",
       "    }\n",
       "\n",
       "    .dataframe thead th {\n",
       "        text-align: right;\n",
       "    }\n",
       "</style>\n",
       "<table border=\"1\" class=\"dataframe\">\n",
       "  <thead>\n",
       "    <tr style=\"text-align: right;\">\n",
       "      <th></th>\n",
       "      <th>country</th>\n",
       "      <th>description</th>\n",
       "      <th>designation</th>\n",
       "      <th>points</th>\n",
       "      <th>price</th>\n",
       "      <th>province</th>\n",
       "      <th>region_1</th>\n",
       "      <th>region_2</th>\n",
       "      <th>taster_name</th>\n",
       "      <th>taster_twitter_handle</th>\n",
       "      <th>title</th>\n",
       "      <th>variety</th>\n",
       "      <th>winery</th>\n",
       "    </tr>\n",
       "  </thead>\n",
       "  <tbody>\n",
       "    <tr>\n",
       "      <th>0</th>\n",
       "      <td>Italy</td>\n",
       "      <td>Aromas include tropical fruit, broom, brimston...</td>\n",
       "      <td>Vulkà Bianco</td>\n",
       "      <td>87</td>\n",
       "      <td>NaN</td>\n",
       "      <td>Sicily &amp; Sardinia</td>\n",
       "      <td>Etna</td>\n",
       "      <td>NaN</td>\n",
       "      <td>Kerin O’Keefe</td>\n",
       "      <td>@kerinokeefe</td>\n",
       "      <td>Nicosia 2013 Vulkà Bianco  (Etna)</td>\n",
       "      <td>White Blend</td>\n",
       "      <td>Nicosia</td>\n",
       "    </tr>\n",
       "    <tr>\n",
       "      <th>1</th>\n",
       "      <td>Portugal</td>\n",
       "      <td>This is ripe and fruity, a wine that is smooth...</td>\n",
       "      <td>Avidagos</td>\n",
       "      <td>87</td>\n",
       "      <td>15.0</td>\n",
       "      <td>Douro</td>\n",
       "      <td>NaN</td>\n",
       "      <td>NaN</td>\n",
       "      <td>Roger Voss</td>\n",
       "      <td>@vossroger</td>\n",
       "      <td>Quinta dos Avidagos 2011 Avidagos Red (Douro)</td>\n",
       "      <td>Portuguese Red</td>\n",
       "      <td>Quinta dos Avidagos</td>\n",
       "    </tr>\n",
       "    <tr>\n",
       "      <th>2</th>\n",
       "      <td>US</td>\n",
       "      <td>Tart and snappy, the flavors of lime flesh and...</td>\n",
       "      <td>NaN</td>\n",
       "      <td>87</td>\n",
       "      <td>14.0</td>\n",
       "      <td>Oregon</td>\n",
       "      <td>Willamette Valley</td>\n",
       "      <td>Willamette Valley</td>\n",
       "      <td>Paul Gregutt</td>\n",
       "      <td>@paulgwine</td>\n",
       "      <td>Rainstorm 2013 Pinot Gris (Willamette Valley)</td>\n",
       "      <td>Pinot Gris</td>\n",
       "      <td>Rainstorm</td>\n",
       "    </tr>\n",
       "    <tr>\n",
       "      <th>3</th>\n",
       "      <td>US</td>\n",
       "      <td>Pineapple rind, lemon pith and orange blossom ...</td>\n",
       "      <td>Reserve Late Harvest</td>\n",
       "      <td>87</td>\n",
       "      <td>13.0</td>\n",
       "      <td>Michigan</td>\n",
       "      <td>Lake Michigan Shore</td>\n",
       "      <td>NaN</td>\n",
       "      <td>Alexander Peartree</td>\n",
       "      <td>NaN</td>\n",
       "      <td>St. Julian 2013 Reserve Late Harvest Riesling ...</td>\n",
       "      <td>Riesling</td>\n",
       "      <td>St. Julian</td>\n",
       "    </tr>\n",
       "    <tr>\n",
       "      <th>4</th>\n",
       "      <td>US</td>\n",
       "      <td>Much like the regular bottling from 2012, this...</td>\n",
       "      <td>Vintner's Reserve Wild Child Block</td>\n",
       "      <td>87</td>\n",
       "      <td>65.0</td>\n",
       "      <td>Oregon</td>\n",
       "      <td>Willamette Valley</td>\n",
       "      <td>Willamette Valley</td>\n",
       "      <td>Paul Gregutt</td>\n",
       "      <td>@paulgwine</td>\n",
       "      <td>Sweet Cheeks 2012 Vintner's Reserve Wild Child...</td>\n",
       "      <td>Pinot Noir</td>\n",
       "      <td>Sweet Cheeks</td>\n",
       "    </tr>\n",
       "  </tbody>\n",
       "</table>\n",
       "</div>"
      ],
      "text/plain": [
       "    country                                        description  \\\n",
       "0     Italy  Aromas include tropical fruit, broom, brimston...   \n",
       "1  Portugal  This is ripe and fruity, a wine that is smooth...   \n",
       "2        US  Tart and snappy, the flavors of lime flesh and...   \n",
       "3        US  Pineapple rind, lemon pith and orange blossom ...   \n",
       "4        US  Much like the regular bottling from 2012, this...   \n",
       "\n",
       "                          designation  points  price           province  \\\n",
       "0                        Vulkà Bianco      87    NaN  Sicily & Sardinia   \n",
       "1                            Avidagos      87   15.0              Douro   \n",
       "2                                 NaN      87   14.0             Oregon   \n",
       "3                Reserve Late Harvest      87   13.0           Michigan   \n",
       "4  Vintner's Reserve Wild Child Block      87   65.0             Oregon   \n",
       "\n",
       "              region_1           region_2         taster_name  \\\n",
       "0                 Etna                NaN       Kerin O’Keefe   \n",
       "1                  NaN                NaN          Roger Voss   \n",
       "2    Willamette Valley  Willamette Valley        Paul Gregutt   \n",
       "3  Lake Michigan Shore                NaN  Alexander Peartree   \n",
       "4    Willamette Valley  Willamette Valley        Paul Gregutt   \n",
       "\n",
       "  taster_twitter_handle                                              title  \\\n",
       "0          @kerinokeefe                  Nicosia 2013 Vulkà Bianco  (Etna)   \n",
       "1            @vossroger      Quinta dos Avidagos 2011 Avidagos Red (Douro)   \n",
       "2           @paulgwine       Rainstorm 2013 Pinot Gris (Willamette Valley)   \n",
       "3                   NaN  St. Julian 2013 Reserve Late Harvest Riesling ...   \n",
       "4           @paulgwine   Sweet Cheeks 2012 Vintner's Reserve Wild Child...   \n",
       "\n",
       "          variety               winery  \n",
       "0     White Blend              Nicosia  \n",
       "1  Portuguese Red  Quinta dos Avidagos  \n",
       "2      Pinot Gris            Rainstorm  \n",
       "3        Riesling           St. Julian  \n",
       "4      Pinot Noir         Sweet Cheeks  "
      ]
     },
     "execution_count": 3,
     "metadata": {},
     "output_type": "execute_result"
    }
   ],
   "source": [
    "# 加载数据\n",
    "wine_reviews= pd.read_csv(\"./wine-reviews/winemag-data-130k-v2.csv\", index_col = 0)\n",
    "wine_reviews.head()"
   ]
  },
  {
   "cell_type": "markdown",
   "metadata": {},
   "source": [
    "### 1.1处理数据集"
   ]
  },
  {
   "cell_type": "code",
   "execution_count": 37,
   "metadata": {},
   "outputs": [],
   "source": [
    "# 由于description是品酒师对酒的形容，与关联规则挖掘关系不大，删除该列\n",
    "# wine_reviews.drop(columns=[\"description\"],inplace=True)\n",
    "wine_reviews=wine_reviews.dropna(how='any')\n",
    "# 转为list类型\n",
    "wine_data=np.array(wine_reviews)\n",
    "wine_list=wine_data.tolist()"
   ]
  },
  {
   "cell_type": "markdown",
   "metadata": {},
   "source": [
    "### 1.2频繁模式及关联规则，并对关联规则进行评价"
   ]
  },
  {
   "cell_type": "code",
   "execution_count": 50,
   "metadata": {
    "scrolled": true
   },
   "outputs": [
    {
     "name": "stdout",
     "output_type": "stream",
     "text": [
      "1 项集\n",
      "{('@paulgwine\\xa0',): 5989, ('Pinot Noir',): 4807, ('US',): 22387, ('Paul Gregutt',): 5989, ('Virginie Boone',): 6422, ('California',): 12900, ('@vboone',): 6422, ('@mattkettmann',): 4479, ('Central Coast',): 4689, ('Matt Kettmann',): 4479, ('Columbia Valley',): 5532, ('Washington',): 5845}\n",
      "2 项集\n",
      "{('@paulgwine\\xa0', 'Paul Gregutt'): 5989, ('@paulgwine\\xa0', 'US'): 5989, ('Paul Gregutt', 'US'): 5989, ('Pinot Noir', 'US'): 4807, ('@vboone', 'California'): 6422, ('@vboone', 'US'): 6422, ('@vboone', 'Virginie Boone'): 6422, ('California', 'US'): 12900, ('California', 'Virginie Boone'): 6422, ('US', 'Virginie Boone'): 6422, ('@mattkettmann', 'California'): 4479, ('@mattkettmann', 'Matt Kettmann'): 4479, ('@mattkettmann', 'US'): 4479, ('California', 'Central Coast'): 4689, ('California', 'Matt Kettmann'): 4479, ('Central Coast', 'US'): 4689, ('Matt Kettmann', 'US'): 4479, ('Columbia Valley', 'US'): 5532, ('Columbia Valley', 'Washington'): 5532, ('US', 'Washington'): 5845}\n",
      "3 项集\n",
      "{('@paulgwine\\xa0', 'Paul Gregutt', 'US'): 5989, ('@vboone', 'California', 'US'): 6422, ('@vboone', 'California', 'Virginie Boone'): 6422, ('@vboone', 'US', 'Virginie Boone'): 6422, ('California', 'US', 'Virginie Boone'): 6422, ('@mattkettmann', 'California', 'Matt Kettmann'): 4479, ('@mattkettmann', 'California', 'US'): 4479, ('@mattkettmann', 'Matt Kettmann', 'US'): 4479, ('California', 'Central Coast', 'US'): 4689, ('California', 'Matt Kettmann', 'US'): 4479, ('Columbia Valley', 'US', 'Washington'): 5532}\n",
      "4 项集\n",
      "{('@vboone', 'California', 'US', 'Virginie Boone'): 6422, ('@mattkettmann', 'California', 'Matt Kettmann', 'US'): 4479}\n",
      "关联规则：\n",
      "{Paul Gregutt} -> {@paulgwine } (conf: 1.000, supp: 0.268, lift: 3.738, conv: 732478670.657)\n",
      "{@paulgwine } -> {Paul Gregutt} (conf: 1.000, supp: 0.268, lift: 3.738, conv: 732478670.657)\n",
      "{@paulgwine } -> {US} (conf: 1.000, supp: 0.268, lift: 1.000, conv: 0.000)\n",
      "{Paul Gregutt} -> {US} (conf: 1.000, supp: 0.268, lift: 1.000, conv: 0.000)\n",
      "{Pinot Noir} -> {US} (conf: 1.000, supp: 0.215, lift: 1.000, conv: 0.000)\n",
      "{@vboone} -> {California} (conf: 1.000, supp: 0.287, lift: 1.735, conv: 423772725.242)\n",
      "{@vboone} -> {US} (conf: 1.000, supp: 0.287, lift: 1.000, conv: 0.000)\n",
      "{Virginie Boone} -> {@vboone} (conf: 1.000, supp: 0.287, lift: 3.486, conv: 713137088.489)\n",
      "{@vboone} -> {Virginie Boone} (conf: 1.000, supp: 0.287, lift: 3.486, conv: 713137088.489)\n",
      "{California} -> {US} (conf: 1.000, supp: 0.576, lift: 1.000, conv: 0.000)\n",
      "{Virginie Boone} -> {California} (conf: 1.000, supp: 0.287, lift: 1.735, conv: 423772725.242)\n",
      "{Virginie Boone} -> {US} (conf: 1.000, supp: 0.287, lift: 1.000, conv: 0.000)\n",
      "{@mattkettmann} -> {California} (conf: 1.000, supp: 0.200, lift: 1.735, conv: 423772725.242)\n",
      "{Matt Kettmann} -> {@mattkettmann} (conf: 1.000, supp: 0.200, lift: 4.998, conv: 799928529.950)\n",
      "{@mattkettmann} -> {Matt Kettmann} (conf: 1.000, supp: 0.200, lift: 4.998, conv: 799928529.950)\n",
      "{@mattkettmann} -> {US} (conf: 1.000, supp: 0.200, lift: 1.000, conv: 0.000)\n",
      "{Central Coast} -> {California} (conf: 1.000, supp: 0.209, lift: 1.735, conv: 423772725.242)\n",
      "{Matt Kettmann} -> {California} (conf: 1.000, supp: 0.200, lift: 1.735, conv: 423772725.242)\n",
      "{Central Coast} -> {US} (conf: 1.000, supp: 0.209, lift: 1.000, conv: 0.000)\n",
      "{Matt Kettmann} -> {US} (conf: 1.000, supp: 0.200, lift: 1.000, conv: 0.000)\n",
      "{Columbia Valley} -> {US} (conf: 1.000, supp: 0.247, lift: 1.000, conv: 0.000)\n",
      "{Washington} -> {Columbia Valley} (conf: 0.946, supp: 0.247, lift: 3.830, conv: 14.060)\n",
      "{Columbia Valley} -> {Washington} (conf: 1.000, supp: 0.247, lift: 3.830, conv: 738910975.119)\n",
      "{Washington} -> {US} (conf: 1.000, supp: 0.261, lift: 1.000, conv: 0.000)\n",
      "{Paul Gregutt, US} -> {@paulgwine } (conf: 1.000, supp: 0.268, lift: 3.738, conv: 732478670.657)\n",
      "{@paulgwine , US} -> {Paul Gregutt} (conf: 1.000, supp: 0.268, lift: 3.738, conv: 732478670.657)\n",
      "{@paulgwine , Paul Gregutt} -> {US} (conf: 1.000, supp: 0.268, lift: 1.000, conv: 0.000)\n",
      "{Paul Gregutt} -> {@paulgwine , US} (conf: 1.000, supp: 0.268, lift: 3.738, conv: 732478670.657)\n",
      "{@paulgwine } -> {Paul Gregutt, US} (conf: 1.000, supp: 0.268, lift: 3.738, conv: 732478670.657)\n",
      "{@vboone, US} -> {California} (conf: 1.000, supp: 0.287, lift: 1.735, conv: 423772725.242)\n",
      "{@vboone, California} -> {US} (conf: 1.000, supp: 0.287, lift: 1.000, conv: 0.000)\n",
      "{@vboone} -> {California, US} (conf: 1.000, supp: 0.287, lift: 1.735, conv: 423772725.242)\n",
      "{California, Virginie Boone} -> {@vboone} (conf: 1.000, supp: 0.287, lift: 3.486, conv: 713137088.489)\n",
      "{@vboone, Virginie Boone} -> {California} (conf: 1.000, supp: 0.287, lift: 1.735, conv: 423772725.242)\n",
      "{@vboone, California} -> {Virginie Boone} (conf: 1.000, supp: 0.287, lift: 3.486, conv: 713137088.489)\n",
      "{Virginie Boone} -> {@vboone, California} (conf: 1.000, supp: 0.287, lift: 3.486, conv: 713137088.489)\n",
      "{@vboone} -> {California, Virginie Boone} (conf: 1.000, supp: 0.287, lift: 3.486, conv: 713137088.489)\n",
      "{US, Virginie Boone} -> {@vboone} (conf: 1.000, supp: 0.287, lift: 3.486, conv: 713137088.489)\n",
      "{@vboone, Virginie Boone} -> {US} (conf: 1.000, supp: 0.287, lift: 1.000, conv: 0.000)\n",
      "{@vboone, US} -> {Virginie Boone} (conf: 1.000, supp: 0.287, lift: 3.486, conv: 713137088.489)\n",
      "{Virginie Boone} -> {@vboone, US} (conf: 1.000, supp: 0.287, lift: 3.486, conv: 713137088.489)\n",
      "{@vboone} -> {US, Virginie Boone} (conf: 1.000, supp: 0.287, lift: 3.486, conv: 713137088.489)\n",
      "{US, Virginie Boone} -> {California} (conf: 1.000, supp: 0.287, lift: 1.735, conv: 423772725.242)\n",
      "{California, Virginie Boone} -> {US} (conf: 1.000, supp: 0.287, lift: 1.000, conv: 0.000)\n",
      "{Virginie Boone} -> {California, US} (conf: 1.000, supp: 0.287, lift: 1.735, conv: 423772725.242)\n",
      "{California, Matt Kettmann} -> {@mattkettmann} (conf: 1.000, supp: 0.200, lift: 4.998, conv: 799928529.950)\n",
      "{@mattkettmann, Matt Kettmann} -> {California} (conf: 1.000, supp: 0.200, lift: 1.735, conv: 423772725.242)\n",
      "{@mattkettmann, California} -> {Matt Kettmann} (conf: 1.000, supp: 0.200, lift: 4.998, conv: 799928529.950)\n",
      "{Matt Kettmann} -> {@mattkettmann, California} (conf: 1.000, supp: 0.200, lift: 4.998, conv: 799928529.950)\n",
      "{@mattkettmann} -> {California, Matt Kettmann} (conf: 1.000, supp: 0.200, lift: 4.998, conv: 799928529.950)\n",
      "{@mattkettmann, US} -> {California} (conf: 1.000, supp: 0.200, lift: 1.735, conv: 423772725.242)\n",
      "{@mattkettmann, California} -> {US} (conf: 1.000, supp: 0.200, lift: 1.000, conv: 0.000)\n",
      "{@mattkettmann} -> {California, US} (conf: 1.000, supp: 0.200, lift: 1.735, conv: 423772725.242)\n",
      "{Matt Kettmann, US} -> {@mattkettmann} (conf: 1.000, supp: 0.200, lift: 4.998, conv: 799928529.950)\n",
      "{@mattkettmann, US} -> {Matt Kettmann} (conf: 1.000, supp: 0.200, lift: 4.998, conv: 799928529.950)\n",
      "{@mattkettmann, Matt Kettmann} -> {US} (conf: 1.000, supp: 0.200, lift: 1.000, conv: 0.000)\n",
      "{Matt Kettmann} -> {@mattkettmann, US} (conf: 1.000, supp: 0.200, lift: 4.998, conv: 799928529.950)\n",
      "{@mattkettmann} -> {Matt Kettmann, US} (conf: 1.000, supp: 0.200, lift: 4.998, conv: 799928529.950)\n",
      "{Central Coast, US} -> {California} (conf: 1.000, supp: 0.209, lift: 1.735, conv: 423772725.242)\n",
      "{California, Central Coast} -> {US} (conf: 1.000, supp: 0.209, lift: 1.000, conv: 0.000)\n",
      "{Central Coast} -> {California, US} (conf: 1.000, supp: 0.209, lift: 1.735, conv: 423772725.242)\n",
      "{Matt Kettmann, US} -> {California} (conf: 1.000, supp: 0.200, lift: 1.735, conv: 423772725.242)\n",
      "{California, Matt Kettmann} -> {US} (conf: 1.000, supp: 0.200, lift: 1.000, conv: 0.000)\n",
      "{Matt Kettmann} -> {California, US} (conf: 1.000, supp: 0.200, lift: 1.735, conv: 423772725.242)\n",
      "{US, Washington} -> {Columbia Valley} (conf: 0.946, supp: 0.247, lift: 3.830, conv: 14.060)\n",
      "{Columbia Valley, Washington} -> {US} (conf: 1.000, supp: 0.247, lift: 1.000, conv: 0.000)\n",
      "{Columbia Valley, US} -> {Washington} (conf: 1.000, supp: 0.247, lift: 3.830, conv: 738910975.119)\n",
      "{Washington} -> {Columbia Valley, US} (conf: 0.946, supp: 0.247, lift: 3.830, conv: 14.060)\n",
      "{Columbia Valley} -> {US, Washington} (conf: 1.000, supp: 0.247, lift: 3.830, conv: 738910975.119)\n",
      "{California, US, Virginie Boone} -> {@vboone} (conf: 1.000, supp: 0.287, lift: 3.486, conv: 713137088.489)\n",
      "{@vboone, US, Virginie Boone} -> {California} (conf: 1.000, supp: 0.287, lift: 1.735, conv: 423772725.242)\n",
      "{@vboone, California, Virginie Boone} -> {US} (conf: 1.000, supp: 0.287, lift: 1.000, conv: 0.000)\n",
      "{@vboone, California, US} -> {Virginie Boone} (conf: 1.000, supp: 0.287, lift: 3.486, conv: 713137088.489)\n",
      "{US, Virginie Boone} -> {@vboone, California} (conf: 1.000, supp: 0.287, lift: 3.486, conv: 713137088.489)\n",
      "{California, Virginie Boone} -> {@vboone, US} (conf: 1.000, supp: 0.287, lift: 3.486, conv: 713137088.489)\n",
      "{@vboone, Virginie Boone} -> {California, US} (conf: 1.000, supp: 0.287, lift: 1.735, conv: 423772725.242)\n",
      "{@vboone, US} -> {California, Virginie Boone} (conf: 1.000, supp: 0.287, lift: 3.486, conv: 713137088.489)\n",
      "{@vboone, California} -> {US, Virginie Boone} (conf: 1.000, supp: 0.287, lift: 3.486, conv: 713137088.489)\n",
      "{Virginie Boone} -> {@vboone, California, US} (conf: 1.000, supp: 0.287, lift: 3.486, conv: 713137088.489)\n",
      "{@vboone} -> {California, US, Virginie Boone} (conf: 1.000, supp: 0.287, lift: 3.486, conv: 713137088.489)\n",
      "{California, Matt Kettmann, US} -> {@mattkettmann} (conf: 1.000, supp: 0.200, lift: 4.998, conv: 799928529.950)\n",
      "{@mattkettmann, Matt Kettmann, US} -> {California} (conf: 1.000, supp: 0.200, lift: 1.735, conv: 423772725.242)\n",
      "{@mattkettmann, California, US} -> {Matt Kettmann} (conf: 1.000, supp: 0.200, lift: 4.998, conv: 799928529.950)\n",
      "{@mattkettmann, California, Matt Kettmann} -> {US} (conf: 1.000, supp: 0.200, lift: 1.000, conv: 0.000)\n",
      "{Matt Kettmann, US} -> {@mattkettmann, California} (conf: 1.000, supp: 0.200, lift: 4.998, conv: 799928529.950)\n",
      "{California, Matt Kettmann} -> {@mattkettmann, US} (conf: 1.000, supp: 0.200, lift: 4.998, conv: 799928529.950)\n",
      "{@mattkettmann, US} -> {California, Matt Kettmann} (conf: 1.000, supp: 0.200, lift: 4.998, conv: 799928529.950)\n",
      "{@mattkettmann, Matt Kettmann} -> {California, US} (conf: 1.000, supp: 0.200, lift: 1.735, conv: 423772725.242)\n",
      "{@mattkettmann, California} -> {Matt Kettmann, US} (conf: 1.000, supp: 0.200, lift: 4.998, conv: 799928529.950)\n",
      "{Matt Kettmann} -> {@mattkettmann, California, US} (conf: 1.000, supp: 0.200, lift: 4.998, conv: 799928529.950)\n",
      "{@mattkettmann} -> {California, Matt Kettmann, US} (conf: 1.000, supp: 0.200, lift: 4.998, conv: 799928529.950)\n"
     ]
    }
   ],
   "source": [
    "# 挖掘频繁项集和频繁规则\n",
    "# 最小支持度设置为0.2 置信度为0.7\n",
    "itemsets, rules = apriori(wine_list, min_support=0.2,  min_confidence=0.6)\n",
    "for item in itemsets:\n",
    "    print(item,\"项集\")\n",
    "    print(itemsets[item])\n",
    "# 输出关联规则并使用lift及conviction进行评价\n",
    "# conviction为对于规则X -> Y ， P(not Y) / P(not Y | X).\n",
    "print(\"关联规则：\")\n",
    "for rule in rules:\n",
    "    print(rule)"
   ]
  },
  {
   "cell_type": "markdown",
   "metadata": {},
   "source": [
    "### 1.3挖掘结果分析及可视化表示"
   ]
  },
  {
   "cell_type": "markdown",
   "metadata": {},
   "source": [
    "### 通过分析频繁模式和关联规则，可以发现，葡萄酒的品尝者和其推特名、葡萄酒的产地有比较强的相关性"
   ]
  },
  {
   "cell_type": "code",
   "execution_count": 60,
   "metadata": {},
   "outputs": [
    {
     "data": {
      "image/png": "[encoded data removed]",
      "text/plain": [
       "<Figure size 432x288 with 1 Axes>"
      ]
     },
     "metadata": {},
     "output_type": "display_data"
    }
   ],
   "source": [
    "x_lift=[]\n",
    "y_supp=[]\n",
    "x_conf=[]\n",
    "y_conv=[]\n",
    "for rule in rules:\n",
    "    x_lift.append(rule.lift)\n",
    "    y_supp.append(rule.support)\n",
    "    x_conf.append(rule.confidence)\n",
    "    y_conv.append(rule.conviction)\n",
    "    \n",
    "plt.scatter(x_lift,y_supp,s=20)\n",
    "#设置标题并加上轴标签\n",
    "plt.xlabel(\"lift\",fontsize=14)\n",
    "plt.ylabel(\"support\",fontsize=14)\n",
    "plt.show()"
   ]
  },
  {
   "cell_type": "code",
   "execution_count": 61,
   "metadata": {},
   "outputs": [
    {
     "data": {
      "image/png": "[encoded data removed]",
      "text/plain": [
       "<Figure size 432x288 with 1 Axes>"
      ]
     },
     "metadata": {},
     "output_type": "display_data"
    }
   ],
   "source": [
    "plt.scatter(x_conf,y_conv,s=20)\n",
    "#设置标题并加上轴标签\n",
    "plt.xlabel(\"confidence\",fontsize=14)\n",
    "plt.ylabel(\"conviction\",fontsize=14)\n",
    "plt.show()"
   ]
  },
  {
   "cell_type": "markdown",
   "metadata": {},
   "source": [
    "## 2 oakland-crime-statistics\n",
    "对oakland-crime-statistics数据集做关联规则分析"
   ]
  },
  {
   "cell_type": "markdown",
   "metadata": {},
   "source": [
    "### 2.1数据集处理"
   ]
  },
  {
   "cell_type": "code",
   "execution_count": 72,
   "metadata": {},
   "outputs": [
    {
     "data": {
      "text/html": [
       "<div>\n",
       "<style scoped>\n",
       "    .dataframe tbody tr th:only-of-type {\n",
       "        vertical-align: middle;\n",
       "    }\n",
       "\n",
       "    .dataframe tbody tr th {\n",
       "        vertical-align: top;\n",
       "    }\n",
       "\n",
       "    .dataframe thead th {\n",
       "        text-align: right;\n",
       "    }\n",
       "</style>\n",
       "<table border=\"1\" class=\"dataframe\">\n",
       "  <thead>\n",
       "    <tr style=\"text-align: right;\">\n",
       "      <th></th>\n",
       "      <th>Create Time</th>\n",
       "      <th>Location</th>\n",
       "      <th>Area Id</th>\n",
       "      <th>Beat</th>\n",
       "      <th>Priority</th>\n",
       "      <th>Incident Type Id</th>\n",
       "      <th>Incident Type Description</th>\n",
       "      <th>Event Number</th>\n",
       "      <th>Closed Time</th>\n",
       "    </tr>\n",
       "    <tr>\n",
       "      <th>Agency</th>\n",
       "      <th></th>\n",
       "      <th></th>\n",
       "      <th></th>\n",
       "      <th></th>\n",
       "      <th></th>\n",
       "      <th></th>\n",
       "      <th></th>\n",
       "      <th></th>\n",
       "      <th></th>\n",
       "    </tr>\n",
       "  </thead>\n",
       "  <tbody>\n",
       "    <tr>\n",
       "      <th>OP</th>\n",
       "      <td>2011-01-01T00:00:00.000</td>\n",
       "      <td>ST&amp;SAN PABLO AV</td>\n",
       "      <td>1.0</td>\n",
       "      <td>06X</td>\n",
       "      <td>1.0</td>\n",
       "      <td>PDOA</td>\n",
       "      <td>POSSIBLE DEAD PERSON</td>\n",
       "      <td>LOP110101000001</td>\n",
       "      <td>2011-01-01T00:28:17.000</td>\n",
       "    </tr>\n",
       "    <tr>\n",
       "      <th>OP</th>\n",
       "      <td>2011-01-01T00:01:11.000</td>\n",
       "      <td>ST&amp;HANNAH ST</td>\n",
       "      <td>1.0</td>\n",
       "      <td>07X</td>\n",
       "      <td>1.0</td>\n",
       "      <td>415GS</td>\n",
       "      <td>415 GUNSHOTS</td>\n",
       "      <td>LOP110101000002</td>\n",
       "      <td>2011-01-01T01:12:56.000</td>\n",
       "    </tr>\n",
       "    <tr>\n",
       "      <th>OP</th>\n",
       "      <td>2011-01-01T00:01:25.000</td>\n",
       "      <td>ST&amp;MARKET ST</td>\n",
       "      <td>1.0</td>\n",
       "      <td>10Y</td>\n",
       "      <td>2.0</td>\n",
       "      <td>415GS</td>\n",
       "      <td>415 GUNSHOTS</td>\n",
       "      <td>LOP110101000003</td>\n",
       "      <td>2011-01-01T00:07:20.000</td>\n",
       "    </tr>\n",
       "    <tr>\n",
       "      <th>OP</th>\n",
       "      <td>2011-01-01T00:01:35.000</td>\n",
       "      <td>PRENTISS ST</td>\n",
       "      <td>2.0</td>\n",
       "      <td>21Y</td>\n",
       "      <td>2.0</td>\n",
       "      <td>415GS</td>\n",
       "      <td>415 GUNSHOTS</td>\n",
       "      <td>LOP110101000005</td>\n",
       "      <td>2011-01-01T00:02:28.000</td>\n",
       "    </tr>\n",
       "    <tr>\n",
       "      <th>OP</th>\n",
       "      <td>2011-01-01T00:02:10.000</td>\n",
       "      <td>AV&amp;FOOTHILL BLVD</td>\n",
       "      <td>2.0</td>\n",
       "      <td>20X</td>\n",
       "      <td>1.0</td>\n",
       "      <td>415GS</td>\n",
       "      <td>415 GUNSHOTS</td>\n",
       "      <td>LOP110101000004</td>\n",
       "      <td>2011-01-01T00:50:04.000</td>\n",
       "    </tr>\n",
       "  </tbody>\n",
       "</table>\n",
       "</div>"
      ],
      "text/plain": [
       "                    Create Time            Location  Area Id Beat  Priority  \\\n",
       "Agency                                                                        \n",
       "OP      2011-01-01T00:00:00.000     ST&SAN PABLO AV      1.0  06X       1.0   \n",
       "OP      2011-01-01T00:01:11.000       ST&HANNAH ST       1.0  07X       1.0   \n",
       "OP      2011-01-01T00:01:25.000       ST&MARKET ST       1.0  10Y       2.0   \n",
       "OP      2011-01-01T00:01:35.000        PRENTISS ST       2.0  21Y       2.0   \n",
       "OP      2011-01-01T00:02:10.000   AV&FOOTHILL BLVD       2.0  20X       1.0   \n",
       "\n",
       "       Incident Type Id Incident Type Description     Event Number  \\\n",
       "Agency                                                               \n",
       "OP                 PDOA      POSSIBLE DEAD PERSON  LOP110101000001   \n",
       "OP                415GS              415 GUNSHOTS  LOP110101000002   \n",
       "OP                415GS              415 GUNSHOTS  LOP110101000003   \n",
       "OP                415GS              415 GUNSHOTS  LOP110101000005   \n",
       "OP                415GS              415 GUNSHOTS  LOP110101000004   \n",
       "\n",
       "                    Closed Time  \n",
       "Agency                           \n",
       "OP      2011-01-01T00:28:17.000  \n",
       "OP      2011-01-01T01:12:56.000  \n",
       "OP      2011-01-01T00:07:20.000  \n",
       "OP      2011-01-01T00:02:28.000  \n",
       "OP      2011-01-01T00:50:04.000  "
      ]
     },
     "execution_count": 72,
     "metadata": {},
     "output_type": "execute_result"
    }
   ],
   "source": [
    "# 加载数据\n",
    "crime_11 = pd.read_csv(\"./oakland-crime-statistics-2011-to-2016/records-for-2011.csv\", index_col = 0)\n",
    "crime_12 = pd.read_csv(\"./oakland-crime-statistics-2011-to-2016/records-for-2012.csv\", index_col = 0)\n",
    "crime_13 = pd.read_csv(\"./oakland-crime-statistics-2011-to-2016/records-for-2013.csv\", index_col = 0)\n",
    "crime_14 = pd.read_csv(\"./oakland-crime-statistics-2011-to-2016/records-for-2014.csv\", index_col = 0)\n",
    "crime_15 = pd.read_csv(\"./oakland-crime-statistics-2011-to-2016/records-for-2015.csv\", index_col = 0)\n",
    "crime_16 = pd.read_csv(\"./oakland-crime-statistics-2011-to-2016/records-for-2016.csv\", index_col = 0)\n",
    "crime_11.head()"
   ]
  },
  {
   "cell_type": "code",
   "execution_count": 73,
   "metadata": {
    "scrolled": true
   },
   "outputs": [],
   "source": [
    "# 缺失值处理\n",
    "crime_11=crime_11.dropna(how='any')\n",
    "crime_12=crime_11.dropna(how='any')\n",
    "crime_13=crime_11.dropna(how='any')\n",
    "crime_14=crime_11.dropna(how='any')\n",
    "crime_15=crime_11.dropna(how='any')\n",
    "crime_16=crime_11.dropna(how='any')\n",
    "# 转为list类型\n",
    "crime_11_data=np.array(crime_11)\n",
    "crime_11_list=crime_11_data.tolist()\n",
    "crime_12_data=np.array(crime_12)\n",
    "crime_12_list=crime_12_data.tolist()\n",
    "crime_13_data=np.array(crime_13)\n",
    "crime_13_list=crime_13_data.tolist()\n",
    "crime_14_data=np.array(crime_14)\n",
    "crime_14_list=crime_14_data.tolist()\n",
    "crime_15_data=np.array(crime_15)\n",
    "crime_15_list=crime_15_data.tolist()\n",
    "crime_16_data=np.array(crime_16)\n",
    "crime_16_list=crime_16_data.tolist()"
   ]
  },
  {
   "cell_type": "markdown",
   "metadata": {},
   "source": [
    "### 2.2频繁模式及关联规则，并对关联规则进行评价"
   ]
  },
  {
   "cell_type": "code",
   "execution_count": 82,
   "metadata": {},
   "outputs": [
    {
     "name": "stdout",
     "output_type": "stream",
     "text": [
      "2011 :\n",
      "1 项集\n",
      "{(1.0,): 100264, (2.0,): 156386}\n",
      "2 项集\n",
      "{(1.0, 2.0): 77880}\n",
      "关联规则：\n",
      "{1.0} -> {2.0} (conf: 0.777, supp: 0.436, lift: 0.888, conv: 0.561)\n",
      "2012 :\n",
      "1 项集\n",
      "{(1.0,): 100264, (2.0,): 156386}\n",
      "2 项集\n",
      "{(1.0, 2.0): 77880}\n",
      "关联规则：\n",
      "{1.0} -> {2.0} (conf: 0.777, supp: 0.436, lift: 0.888, conv: 0.561)\n",
      "2013 :\n",
      "1 项集\n",
      "{(1.0,): 100264, (2.0,): 156386}\n",
      "2 项集\n",
      "{(1.0, 2.0): 77880}\n",
      "关联规则：\n",
      "{1.0} -> {2.0} (conf: 0.777, supp: 0.436, lift: 0.888, conv: 0.561)\n",
      "2014 :\n",
      "1 项集\n",
      "{(1.0,): 100264, (2.0,): 156386}\n",
      "2 项集\n",
      "{(1.0, 2.0): 77880}\n",
      "关联规则：\n",
      "{1.0} -> {2.0} (conf: 0.777, supp: 0.436, lift: 0.888, conv: 0.561)\n",
      "2015 :\n",
      "1 项集\n",
      "{(1.0,): 100264, (2.0,): 156386}\n",
      "2 项集\n",
      "{(1.0, 2.0): 77880}\n",
      "关联规则：\n",
      "{1.0} -> {2.0} (conf: 0.777, supp: 0.436, lift: 0.888, conv: 0.561)\n",
      "2016 :\n",
      "1 项集\n",
      "{(1.0,): 100264, (2.0,): 156386}\n",
      "2 项集\n",
      "{(1.0, 2.0): 77880}\n",
      "关联规则：\n",
      "{1.0} -> {2.0} (conf: 0.777, supp: 0.436, lift: 0.888, conv: 0.561)\n"
     ]
    }
   ],
   "source": [
    "# 挖掘频繁项集和频繁规则\n",
    "# 最小支持度设置为0.2 置信度为0.7\n",
    "files=[crime_11_list,crime_12_list,crime_13_list,crime_14_list,crime_15_list,crime_16_list]\n",
    "i=2011\n",
    "all_rules=[]\n",
    "for file in files:\n",
    "    itemsets, rules = apriori(file, min_support=0.2,  min_confidence=0.6)\n",
    "    print(i,\":\")\n",
    "    for item in itemsets:\n",
    "        print(item,\"项集\")\n",
    "        print(itemsets[item])\n",
    "    # 输出关联规则并使用lift及conviction进行评价\n",
    "    # conviction为对于规则X -> Y ， P(not Y) / P(not Y | X).\n",
    "    print(\"关联规则：\")\n",
    "    for rule in rules:\n",
    "        print(rule)\n",
    "    all_rules.append(rules)\n",
    "    i+=1"
   ]
  },
  {
   "cell_type": "markdown",
   "metadata": {},
   "source": [
    "### 2.5分析结果并可视化"
   ]
  },
  {
   "cell_type": "markdown",
   "metadata": {},
   "source": [
    "#### 通过频繁项集及关联规则可以发现，area_id和priority有很强的相关性，area_id为1的地区在这六年内priority一直为2"
   ]
  },
  {
   "cell_type": "code",
   "execution_count": 80,
   "metadata": {},
   "outputs": [
    {
     "data": {
      "image/png": "[encoded data removed]",
      "text/plain": [
       "<Figure size 432x288 with 1 Axes>"
      ]
     },
     "metadata": {},
     "output_type": "display_data"
    },
    {
     "data": {
      "image/png": "[encoded data removed]",
      "text/plain": [
       "<Figure size 432x288 with 1 Axes>"
      ]
     },
     "metadata": {},
     "output_type": "display_data"
    },
    {
     "data": {
      "image/png": "[encoded data removed]",
      "text/plain": [
       "<Figure size 432x288 with 1 Axes>"
      ]
     },
     "metadata": {},
     "output_type": "display_data"
    },
    {
     "data": {
      "image/png": "[encoded data removed]",
      "text/plain": [
       "<Figure size 432x288 with 1 Axes>"
      ]
     },
     "metadata": {},
     "output_type": "display_data"
    },
    {
     "data": {
      "image/png": "[encoded data removed]",
      "text/plain": [
       "<Figure size 432x288 with 1 Axes>"
      ]
     },
     "metadata": {},
     "output_type": "display_data"
    },
    {
     "data": {
      "image/png": "[encoded data removed]",
      "text/plain": [
       "<Figure size 432x288 with 1 Axes>"
      ]
     },
     "metadata": {},
     "output_type": "display_data"
    }
   ],
   "source": [
    "x_lift=[]\n",
    "y_supp=[]\n",
    "i=2011\n",
    "for rules in all_rules:\n",
    "    for rule in rules:\n",
    "        x_lift.append(rule.lift)\n",
    "        y_supp.append(rule.support)\n",
    "        plt.scatter(x_lift,y_supp,s=20)\n",
    "        #设置标题并加上轴标签\n",
    "        plt.title(i)\n",
    "        plt.xlabel(\"lift\",fontsize=14)\n",
    "        plt.ylabel(\"support\",fontsize=14)\n",
    "        plt.show()\n",
    "    i+=1"
   ]
  }
 ],
 "metadata": {
  "kernelspec": {
   "display_name": "Python 3",
   "language": "python",
   "name": "python3"
  },
  "language_info": {
   "codemirror_mode": {
    "name": "ipython",
    "version": 3
   },
   "file_extension": ".py",
   "mimetype": "text/x-python",
   "name": "python",
   "nbconvert_exporter": "python",
   "pygments_lexer": "ipython3",
   "version": "3.6.5"
  }
 },
 "nbformat": 4,
 "nbformat_minor": 2
}
