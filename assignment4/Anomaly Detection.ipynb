{
 "cells": [
  {
   "cell_type": "markdown",
   "metadata": {},
   "source": [
    "## 1.abalone_benchmark"
   ]
  },
  {
   "cell_type": "code",
   "execution_count": 2,
   "metadata": {},
   "outputs": [],
   "source": [
    "import os\n",
    "import sys\n",
    "import pandas as pd\n",
    "import numpy as np\n",
    "from scipy import stats\n",
    "from pyod.models.abod import ABOD\n",
    "from pyod.models.cblof import CBLOF\n",
    "from pyod.models.feature_bagging import FeatureBagging\n",
    "from pyod.models.hbos import HBOS\n",
    "from pyod.models.iforest import IForest\n",
    "from pyod.models.knn import KNN\n",
    "from pyod.utils.data import generate_data\n",
    "from pyod.utils.data import evaluate_print\n",
    "from pyod.utils.utility import standardizer\n",
    "from pyod.models.lof import LOF\n",
    "from sklearn.preprocessing import MinMaxScaler\n",
    "from sklearn.metrics import roc_auc_score\n",
    "from sklearn.utils import column_or_1d\n",
    "from sklearn.utils import check_consistent_length\n",
    "from sklearn.model_selection import train_test_split\n",
    "from pyod.utils.utility import precision_n_scores\n",
    "import matplotlib.pyplot as plt\n",
    "import matplotlib.font_manager as mfm\n"
   ]
  },
  {
   "cell_type": "markdown",
   "metadata": {},
   "source": [
    "### 1.1 处理数据"
   ]
  },
  {
   "cell_type": "code",
   "execution_count": 3,
   "metadata": {},
   "outputs": [],
   "source": [
    "def list_dir(file_dir):\n",
    "    file_list=[]\n",
    "    for f in os.listdir(file_dir):\n",
    "        file_list.append(os.path.join(file_dir,f))\n",
    "    return file_list"
   ]
  },
  {
   "cell_type": "code",
   "execution_count": 4,
   "metadata": {},
   "outputs": [],
   "source": [
    "def process_data(file):\n",
    "    df=pd.read_csv(file)\n",
    "    x=df.drop(['ground.truth','point.id','motherset','origin','original.label'],axis = 1).values\n",
    "    y=df['ground.truth'].values\n",
    "    y=[0 if label=='nominal' else 1 for label in y]\n",
    "    x_train, x_test, y_train, y_test = train_test_split(x, y, test_size=0.3,random_state=random_state)\n",
    "    x_train, x_test = standardizer(x_train, x_test)\n",
    "    return x_train,y_train,x_test,y_test"
   ]
  },
  {
   "cell_type": "code",
   "execution_count": 5,
   "metadata": {
    "scrolled": true
   },
   "outputs": [],
   "source": [
    "file_list=list_dir('./abalone/benchmarks')"
   ]
  },
  {
   "cell_type": "markdown",
   "metadata": {},
   "source": [
    "### 1.2 模型\n",
    "测试7个模型：\n",
    "1. ABOD \n",
    "    - 考虑了每个数据点和其邻居的关系，但是不考虑邻居之间的关系。ABOD在多维度数据上表现较好。\n",
    "2. CBLOF\n",
    "    - 它将数据分为小聚类簇和大聚类簇。离群得分基于数据点所属的聚类簇的大小来计算，距离计算方式为到最近大聚类簇的距离。\n",
    "3.  Feature Bagging\n",
    "    - 一个特征集合检测器，它在数据集的一系列子集上拟合了大量的基准检测器。它使用平均或者其他结合方法来提高预测准确率\n",
    "4. HBOS\n",
    "    - 一种高效的无监督方法，它假设特征之间独立，然后通过构建直方图来计算离群得分\n",
    "5. Isolation Forest\n",
    "    - 内部使用sklearn，此方法中，使用一个集合的树来完成数据分区。孤立森林提供农一个离群得分来判定一个数据点在结构中有多孤立。其离群得分用来将它与正常观测数据区分开来。\n",
    "6. KNN\n",
    "    - 对于任意数据点，其到第k个邻居的距离可以作为其离群得分\n",
    "7. Average KNN\n",
    "    - 使用全部k个邻居的平均距离作为离群得分"
   ]
  },
  {
   "cell_type": "code",
   "execution_count": 6,
   "metadata": {},
   "outputs": [],
   "source": [
    "# 设置 5%的离群点数据\n",
    "random_state = np.random.RandomState(42)\n",
    "outliers_fraction = 0.05\n",
    "# 定义7个后续会使用的离群点检测模型\n",
    "classifiers = {\n",
    "    \"Angle-based Outlier Detector(ABOD)\" : ABOD(contamination=outliers_fraction),\n",
    "    \"Cluster-based Local Outiler Factor (CBLOF)\": CBLOF(contamination = outliers_fraction,check_estimator=False,random_state = random_state),\n",
    "    \"Feature Bagging\" : FeatureBagging(LOF(n_neighbors=35),contamination=outliers_fraction,check_estimator=False,random_state = random_state),\n",
    "    \"Histogram-base Outlier Detection(HBOS)\" : HBOS(contamination=outliers_fraction),\n",
    "    \"Isolation Forest\" :IForest(contamination=outliers_fraction,random_state = random_state),\n",
    "    \"KNN\" : KNN(contamination=outliers_fraction),\n",
    "    \"Average KNN\" :KNN(method='mean',contamination=outliers_fraction)\n",
    "}"
   ]
  },
  {
   "cell_type": "markdown",
   "metadata": {},
   "source": [
    "将每个文件的数据分为训练集和测试集，分别记录7个模型的平均roc和prn"
   ]
  },
  {
   "cell_type": "code",
   "execution_count": 9,
   "metadata": {},
   "outputs": [
    {
     "name": "stdout",
     "output_type": "stream",
     "text": [
      "model:Angle-based Outlier Detector(ABOD)\n",
      "average roc:0.7291886306532663\n",
      "average prn:0.25781168341708544\n",
      "model:Cluster-based Local Outiler Factor (CBLOF)\n",
      "average roc:0.7100277468706537\n",
      "average prn:0.2882796940194715\n",
      "model:Feature Bagging\n",
      "average roc:0.6996175641025641\n",
      "average prn:0.2547246153846154\n",
      "model:Histogram-base Outlier Detection(HBOS)\n"
     ]
    },
    {
     "name": "stderr",
     "output_type": "stream",
     "text": [
      "D:\\ProgramData\\Anaconda\\envs\\pytorch\\lib\\site-packages\\sklearn\\metrics\\_classification.py:1272: UndefinedMetricWarning: Precision is ill-defined and being set to 0.0 due to no predicted samples. Use `zero_division` parameter to control this behavior.\n",
      "  _warn_prf(average, modifier, msg_start, len(result))\n",
      "D:\\ProgramData\\Anaconda\\envs\\pytorch\\lib\\site-packages\\sklearn\\metrics\\_classification.py:1272: UndefinedMetricWarning: Precision is ill-defined and being set to 0.0 due to no predicted samples. Use `zero_division` parameter to control this behavior.\n",
      "  _warn_prf(average, modifier, msg_start, len(result))\n"
     ]
    },
    {
     "name": "stdout",
     "output_type": "stream",
     "text": [
      "average roc:0.6990394518801784\n",
      "average prn:0.26661191841937537\n",
      "model:Isolation Forest\n",
      "average roc:0.687851835443038\n",
      "average prn:0.27894664556962023\n",
      "model:KNN\n",
      "average roc:0.7389358942065491\n",
      "average prn:0.2999775188916876\n",
      "model:Average KNN\n",
      "average roc:0.7370792775665398\n",
      "average prn:0.2980160329531052\n"
     ]
    }
   ],
   "source": [
    "roc=[]\n",
    "prn=[]\n",
    "for i,(clf_name,clf) in enumerate(classifiers.items()):\n",
    "    print(\"model:\"+clf_name)\n",
    "    cls_roc=[]\n",
    "    cls_prn=[]\n",
    "    \n",
    "    for file in file_list:\n",
    "         # Generate sample data\n",
    "        X_train, y_train, X_test, y_test = process_data(file)\n",
    "        \n",
    "        try:\n",
    "            clf.fit(X_train)\n",
    "            y_test_pred = clf.predict(X_test)\n",
    "            y_test_scores = clf.decision_function(X_test) \n",
    "            y_true = column_or_1d(y_test)\n",
    "            y_pred = column_or_1d(y_test_scores)\n",
    "            check_consistent_length(y_true, y_pred)\n",
    "            cls_roc.append(np.round(roc_auc_score(y_true, y_pred), decimals=4))\n",
    "            cls_prn.append(np.round(precision_n_scores(y_true, y_pred), decimals=4))\n",
    "        except :\n",
    "            continue\n",
    "    roc.append(np.average(cls_roc))\n",
    "    prn.append(np.average(cls_prn))\n",
    "    print(\"average roc:{}\".format(roc[-1]))\n",
    "    print(\"average prn:{}\".format(prn[-1]))"
   ]
  },
  {
   "cell_type": "markdown",
   "metadata": {},
   "source": [
    "### 1.3 结果分析\n",
    "比较不同模型的平均roc与prn"
   ]
  },
  {
   "cell_type": "code",
   "execution_count": 13,
   "metadata": {},
   "outputs": [
    {
     "name": "stdout",
     "output_type": "stream",
     "text": [
      "ABOB\n",
      "0.7291886306532663\n",
      "CBLOF\n",
      "0.7100277468706537\n",
      "FB\n",
      "0.6996175641025641\n",
      "HBOD\n",
      "0.6990394518801784\n",
      "IForest\n",
      "0.687851835443038\n",
      "KNN\n",
      "0.7389358942065491\n",
      "Mean KNN\n",
      "0.7370792775665398\n"
     ]
    },
    {
     "data": {
      "image/png": "[encoded data removed]",
      "text/plain": [
       "<Figure size 432x288 with 1 Axes>"
      ]
     },
     "metadata": {
      "needs_background": "light"
     },
     "output_type": "display_data"
    }
   ],
   "source": [
    "name=['ABOB','CBLOF','FB','HBOD','IForest','KNN','Mean KNN']\n",
    "# 可视化roc\n",
    "for i in range(len(name)):\n",
    "    print(name[i])\n",
    "    print(roc[i])\n",
    "    \n",
    "plt.bar(range(len(roc)), roc, tick_label=name)\n",
    "plt.show()"
   ]
  },
  {
   "cell_type": "markdown",
   "metadata": {},
   "source": [
    "由上图可知，七个模型的平均roc值都在0.7左右，其中KNN和Mean KNN的roc最高，均超过了0.73，说明knn在离群点分析方面效果更好一些"
   ]
  },
  {
   "cell_type": "code",
   "execution_count": 14,
   "metadata": {},
   "outputs": [
    {
     "name": "stdout",
     "output_type": "stream",
     "text": [
      "ABOB\n",
      "0.25781168341708544\n",
      "CBLOF\n",
      "0.2882796940194715\n",
      "FB\n",
      "0.2547246153846154\n",
      "HBOD\n",
      "0.26661191841937537\n",
      "IForest\n",
      "0.27894664556962023\n",
      "KNN\n",
      "0.2999775188916876\n",
      "Mean KNN\n",
      "0.2980160329531052\n"
     ]
    },
    {
     "data": {
      "image/png": "[encoded data removed]",
      "text/plain": [
       "<Figure size 432x288 with 1 Axes>"
      ]
     },
     "metadata": {
      "needs_background": "light"
     },
     "output_type": "display_data"
    }
   ],
   "source": [
    "# prn\n",
    "for i in range(len(name)):\n",
    "    print(name[i])\n",
    "    print(prn[i])\n",
    "plt.bar(range(len(prn)), prn, tick_label=name)\n",
    "plt.show()"
   ]
  },
  {
   "cell_type": "markdown",
   "metadata": {},
   "source": [
    "prn指模型前n个的准确率，可以看到，七个模型整体的prn都不是很高，Feature Bagging结果最低，两种KNN算法的prn值最高，接近0.3，这和roc有同样的趋势。"
   ]
  },
  {
   "cell_type": "markdown",
   "metadata": {},
   "source": [
    "## 2.skin_benchmark\n",
    "加载数据与模型的方法与abalone一致，X只取R、G、B三个属性值"
   ]
  },
  {
   "cell_type": "code",
   "execution_count": 7,
   "metadata": {},
   "outputs": [],
   "source": [
    "file_list=list_dir('./skin/benchmarks')\n"
   ]
  },
  {
   "cell_type": "code",
   "execution_count": 7,
   "metadata": {},
   "outputs": [],
   "source": [
    "roc=[]\n",
    "prn=[]\n",
    "for i,(clf_name,clf) in enumerate(classifiers.items()):\n",
    "    break\n",
    "    print(\"model:\"+clf_name)\n",
    "    cls_roc=[]\n",
    "    cls_prn=[]\n",
    "    for file in file_list:\n",
    "         # Generate sample data\n",
    "        df=pd.read_csv(file)\n",
    "        data.loc[data['ground.truth'] == 'anomaly','ground.truth'] = 1\n",
    "        data.loc[data['ground.truth'] == 'nominal','ground.truth'] = 0\n",
    "    \n",
    "        X = data[[\"R\",\"G\",\"B\"]].values\n",
    "        Y = data['ground.truth'].values.tolist()\n",
    "        X_train, X_test, y_train, y_test = train_test_split(X, Y, test_size=0.3, random_state=1)\n",
    "\n",
    "        \n",
    "        # 训练模型\n",
    "        try:\n",
    "            clf.fit(X_train)\n",
    "            y_test_pred = clf.predict(X_test)\n",
    "            y_test_scores = clf.decision_function(X_test) \n",
    "            y_true = column_or_1d(y_test)\n",
    "            y_pred = column_or_1d(y_test_scores)\n",
    "            check_consistent_length(y_true, y_pred)\n",
    "            cls_roc.append(np.round(roc_auc_score(y_true, y_pred), decimals=4))\n",
    "            cls_prn.append(np.round(precision_n_scores(y_true, y_pred), decimals=4))\n",
    "            break\n",
    "        except :\n",
    "            continue\n",
    "    roc.append(np.average(cls_roc))\n",
    "    prn.append(np.average(cls_prn))\n",
    "    print(\"average roc:{}\".format(roc[-1]))\n",
    "    print(\"average prn:{}\".format(prn[-1]))"
   ]
  },
  {
   "cell_type": "code",
   "execution_count": 9,
   "metadata": {},
   "outputs": [
    {
     "data": {
      "image/png": "[encoded data removed]",
      "text/plain": [
       "<Figure size 432x288 with 1 Axes>"
      ]
     },
     "metadata": {
      "needs_background": "light"
     },
     "output_type": "display_data"
    }
   ],
   "source": [
    "name=['ABOB','CBLOF','FB','HBOD','IForest','KNN','Mean KNN']\n",
    "# 可视化roc\n",
    "plt.bar(range(len(roc)), roc, tick_label=name)\n",
    "plt.show()"
   ]
  },
  {
   "cell_type": "markdown",
   "metadata": {},
   "source": [
    "可以看到，该数据集上的结果与上个数据集比较相似，模型都在0.70左右，KNN效果最好"
   ]
  },
  {
   "cell_type": "code",
   "execution_count": 11,
   "metadata": {
    "scrolled": true
   },
   "outputs": [
    {
     "data": {
      "image/png": "[encoded data removed]",
      "text/plain": [
       "<Figure size 432x288 with 1 Axes>"
      ]
     },
     "metadata": {
      "needs_background": "light"
     },
     "output_type": "display_data"
    }
   ],
   "source": [
    "# prn\n",
    "plt.bar(range(len(prn)), prn, tick_label=name)\n",
    "plt.show()"
   ]
  },
  {
   "cell_type": "markdown",
   "metadata": {},
   "source": [
    "由上图可知，KNN的pron值最好，Feature boosting比较差，这一部分和之前的结果相一致。"
   ]
  },
  {
   "cell_type": "code",
   "execution_count": null,
   "metadata": {},
   "outputs": [],
   "source": []
  },
  {
   "cell_type": "code",
   "execution_count": null,
   "metadata": {},
   "outputs": [],
   "source": []
  },
  {
   "cell_type": "code",
   "execution_count": null,
   "metadata": {},
   "outputs": [],
   "source": []
  }
 ],
 "metadata": {
  "kernelspec": {
   "display_name": "Python [conda env:pytorch]",
   "language": "python",
   "name": "conda-env-pytorch-py"
  },
  "language_info": {
   "codemirror_mode": {
    "name": "ipython",
    "version": 3
   },
   "file_extension": ".py",
   "mimetype": "text/x-python",
   "name": "python",
   "nbconvert_exporter": "python",
   "pygments_lexer": "ipython3",
   "version": "3.6.9"
  }
 },
 "nbformat": 4,
 "nbformat_minor": 2
}
